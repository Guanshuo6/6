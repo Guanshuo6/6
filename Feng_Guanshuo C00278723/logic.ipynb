{
 "cells": [
  {
   "cell_type": "code",
   "execution_count": 1,
   "id": "4da65ef2-aa11-419a-a66a-fe144018c18c",
   "metadata": {},
   "outputs": [
    {
     "ename": "ModuleNotFoundError",
     "evalue": "No module named 'pymysql'",
     "output_type": "error",
     "traceback": [
      "\u001b[1;31m---------------------------------------------------------------------------\u001b[0m",
      "\u001b[1;31mModuleNotFoundError\u001b[0m                       Traceback (most recent call last)",
      "Cell \u001b[1;32mIn[1], line 1\u001b[0m\n\u001b[1;32m----> 1\u001b[0m \u001b[38;5;28;01mimport\u001b[39;00m \u001b[38;5;21;01mpymysql\u001b[39;00m\n\u001b[0;32m      3\u001b[0m \u001b[38;5;66;03m# Connect to the database\u001b[39;00m\n\u001b[0;32m      4\u001b[0m connection \u001b[38;5;241m=\u001b[39m pymysql\u001b[38;5;241m.\u001b[39mconnect(\n\u001b[0;32m      5\u001b[0m     host\u001b[38;5;241m=\u001b[39m\u001b[38;5;124m'\u001b[39m\u001b[38;5;124mlocalhost\u001b[39m\u001b[38;5;124m'\u001b[39m,\n\u001b[0;32m      6\u001b[0m     user\u001b[38;5;241m=\u001b[39m\u001b[38;5;124m'\u001b[39m\u001b[38;5;124mwordgame_user\u001b[39m\u001b[38;5;124m'\u001b[39m,\n\u001b[0;32m      7\u001b[0m     password\u001b[38;5;241m=\u001b[39m\u001b[38;5;124m'\u001b[39m\u001b[38;5;124msecurepassword\u001b[39m\u001b[38;5;124m'\u001b[39m,\n\u001b[0;32m      8\u001b[0m     database\u001b[38;5;241m=\u001b[39m\u001b[38;5;124m'\u001b[39m\u001b[38;5;124mWordGameDB\u001b[39m\u001b[38;5;124m'\u001b[39m\n\u001b[0;32m      9\u001b[0m )\n",
      "\u001b[1;31mModuleNotFoundError\u001b[0m: No module named 'pymysql'"
     ]
    }
   ],
   "source": [
    "import pymysql\n",
    "\n",
    "# Connect to the database\n",
    "connection = pymysql.connect(\n",
    "    host='localhost',\n",
    "    user='wordgame_user',\n",
    "    password='securepassword',\n",
    "    database='WordGameDB'\n",
    ")\n",
    "\n",
    "cursor = connection.cursor()\n",
    "print(\"Connected to the database successfully!\")\n"
   ]
  },
  {
   "cell_type": "code",
   "execution_count": 2,
   "id": "5d56a599-31ca-48fa-a17e-70619dd9a064",
   "metadata": {},
   "outputs": [
    {
     "ename": "NameError",
     "evalue": "name 'python' is not defined",
     "output_type": "error",
     "traceback": [
      "\u001b[1;31m---------------------------------------------------------------------------\u001b[0m",
      "\u001b[1;31mNameError\u001b[0m                                 Traceback (most recent call last)",
      "Cell \u001b[1;32mIn[2], line 1\u001b[0m\n\u001b[1;32m----> 1\u001b[0m \u001b[43mpython\u001b[49m \u001b[38;5;241m-\u001b[39m\u001b[38;5;241m-\u001b[39mversion\n",
      "\u001b[1;31mNameError\u001b[0m: name 'python' is not defined"
     ]
    }
   ],
   "source": [
    "python --version"
   ]
  },
  {
   "cell_type": "code",
   "execution_count": 3,
   "id": "bc4767ae-118d-49e2-85b0-3f6c12b7193f",
   "metadata": {},
   "outputs": [
    {
     "ename": "NameError",
     "evalue": "name 'python' is not defined",
     "output_type": "error",
     "traceback": [
      "\u001b[1;31m---------------------------------------------------------------------------\u001b[0m",
      "\u001b[1;31mNameError\u001b[0m                                 Traceback (most recent call last)",
      "Cell \u001b[1;32mIn[3], line 1\u001b[0m\n\u001b[1;32m----> 1\u001b[0m \u001b[43mpython\u001b[49m \u001b[38;5;241m-\u001b[39m\u001b[38;5;241m-\u001b[39mversion\n\u001b[0;32m      2\u001b[0m pip \u001b[38;5;241m-\u001b[39m\u001b[38;5;241m-\u001b[39mversion\n",
      "\u001b[1;31mNameError\u001b[0m: name 'python' is not defined"
     ]
    }
   ],
   "source": [
    "python --version\n",
    "pip --version"
   ]
  },
  {
   "cell_type": "code",
   "execution_count": 4,
   "id": "091346ad-57a0-4b6f-8e77-277729c0b478",
   "metadata": {},
   "outputs": [
    {
     "name": "stdout",
     "output_type": "stream",
     "text": [
      "pip 24.3.1 from C:\\Users\\MASTER\\Learning\\Lib\\site-packages\\pip (python 3.12)\n",
      "\n",
      "Note: you may need to restart the kernel to use updated packages.\n"
     ]
    }
   ],
   "source": [
    "pip --version"
   ]
  },
  {
   "cell_type": "code",
   "execution_count": 5,
   "id": "a272bf77-d6a1-4407-bab0-db7c1c30d2ed",
   "metadata": {},
   "outputs": [
    {
     "name": "stdout",
     "output_type": "stream",
     "text": [
      "Collecting pymysql\n",
      "  Downloading PyMySQL-1.1.1-py3-none-any.whl.metadata (4.4 kB)\n",
      "Downloading PyMySQL-1.1.1-py3-none-any.whl (44 kB)\n",
      "Installing collected packages: pymysql\n",
      "Successfully installed pymysql-1.1.1\n",
      "Note: you may need to restart the kernel to use updated packages.\n"
     ]
    }
   ],
   "source": [
    "pip install pymysql"
   ]
  },
  {
   "cell_type": "code",
   "execution_count": 6,
   "id": "df5bc267-cb93-4734-bbbf-7f3f77cbb53f",
   "metadata": {},
   "outputs": [
    {
     "name": "stdout",
     "output_type": "stream",
     "text": [
      "Connected to the database successfully!\n"
     ]
    }
   ],
   "source": [
    "import pymysql\n",
    "\n",
    "# Connect to the database\n",
    "connection = pymysql.connect(\n",
    "    host='localhost',\n",
    "    user='wordgame_user',\n",
    "    password='securepassword',\n",
    "    database='WordGameDB'\n",
    ")\n",
    "\n",
    "cursor = connection.cursor()\n",
    "print(\"Connected to the database successfully!\")\n"
   ]
  },
  {
   "cell_type": "code",
   "execution_count": 34,
   "id": "e1db5eb0-c5a3-42ca-b0f5-13af60e3c9fe",
   "metadata": {},
   "outputs": [],
   "source": [
    "# 加载词典文件\n",
    "def load_dictionary(filepath):\n",
    "    try:\n",
    "        with open(filepath, 'r') as file:\n",
    "            dictionary = set(word.strip().lower() for word in file)\n",
    "        print(f\"Dictionary loaded with {len(dictionary)} words.\")\n",
    "        return dictionary\n",
    "    except FileNotFoundError:\n",
    "        print(\"Dictionary file not found!\")\n",
    "        return set()\n",
    "\n",
    "# 加载 'words-huge.txt' 文件\n",
    "dictionary_file = \"C:\\\\Users\\\\MASTER\\\\Learning\\\\Scripts\\\\cloud\\\\.ipynb_checkpoints\\\\words-huge.txt\""
   ]
  },
  {
   "cell_type": "code",
   "execution_count": 24,
   "id": "7f502536-cb25-4e26-aae7-a66cbe84487c",
   "metadata": {},
   "outputs": [],
   "source": [
    "def is_valid_word(word, used_words, dictionary):\n",
    "    \"\"\"\n",
    "    检查单词是否有效。\n",
    "    - word: 玩家输入的单词。\n",
    "    - used_words: 已使用的单词集合。\n",
    "    - dictionary: 单词词典。\n",
    "    \"\"\"\n",
    "    if word.lower() in dictionary and word.lower() not in used_words:\n",
    "        return True\n",
    "    return False\n"
   ]
  },
  {
   "cell_type": "code",
   "execution_count": 25,
   "id": "c6797f36-f7fd-4ae7-bff7-08b9dee525a0",
   "metadata": {},
   "outputs": [],
   "source": [
    "def update_used_words(word, used_words):\n",
    "    \"\"\"\n",
    "    更新已使用的单词列表。\n",
    "    - word: 玩家输入的单词。\n",
    "    - used_words: 已使用的单词集合。\n",
    "    \"\"\"\n",
    "    used_words.add(word.lower())\n"
   ]
  },
  {
   "cell_type": "code",
   "execution_count": 26,
   "id": "1cb9f1c1-9413-4ca8-a8c7-eda016d7537b",
   "metadata": {},
   "outputs": [],
   "source": [
    "def calculate_score(word):\n",
    "    \"\"\"\n",
    "    根据单词长度计算分数。\n",
    "    - word: 玩家输入的单词。\n",
    "    \"\"\"\n",
    "    return len(word) * 10  # 假设每个字母得 10 分\n"
   ]
  },
  {
   "cell_type": "code",
   "execution_count": 27,
   "id": "c01014e4-61c0-43c8-8759-26eaa026b30c",
   "metadata": {},
   "outputs": [],
   "source": [
    "def save_to_leaderboard(player_name, score, play_time):\n",
    "    \"\"\"\n",
    "    保存玩家成绩到数据库。\n",
    "    - player_name: 玩家名称。\n",
    "    - score: 玩家得分。\n",
    "    - play_time: 游戏时长。\n",
    "    \"\"\"\n",
    "    cursor.execute(\"\"\"\n",
    "        INSERT INTO Leaderboard (player_name, score, play_time, game_date)\n",
    "        VALUES (%s, %s, %s, CURDATE())\n",
    "    \"\"\", (player_name, score, play_time))\n",
    "    connection.commit()\n",
    "    print(\"Leaderboard updated successfully!\")\n"
   ]
  },
  {
   "cell_type": "code",
   "execution_count": 28,
   "id": "6ebe9438-e91e-4787-b372-b277b606c502",
   "metadata": {},
   "outputs": [
    {
     "name": "stdout",
     "output_type": "stream",
     "text": [
      "'example' is invalid or already used.\n",
      "'test' is invalid or already used.\n",
      "'python' is invalid or already used.\n",
      "'example' is invalid or already used.\n",
      "Leaderboard updated successfully!\n"
     ]
    }
   ],
   "source": [
    "# 初始化\n",
    "used_words = set()\n",
    "player_name = \"Player1\"\n",
    "total_score = 0\n",
    "play_time = \"00:05:30\"  # 模拟游戏时长\n",
    "\n",
    "# 示例流程\n",
    "words_to_check = [\"example\", \"test\", \"python\", \"example\"]  # 模拟输入单词\n",
    "\n",
    "for word in words_to_check:\n",
    "    if is_valid_word(word, used_words, dictionary):\n",
    "        score = calculate_score(word)\n",
    "        total_score += score\n",
    "        update_used_words(word, used_words)\n",
    "        print(f\"'{word}' is valid! Score: {score}, Total Score: {total_score}\")\n",
    "    else:\n",
    "        print(f\"'{word}' is invalid or already used.\")\n",
    "\n",
    "# 保存到数据库\n",
    "save_to_leaderboard(player_name, total_score, play_time)\n"
   ]
  },
  {
   "cell_type": "code",
   "execution_count": 29,
   "id": "76c26c8d-0968-4652-b5f8-0a169379c2b1",
   "metadata": {},
   "outputs": [
    {
     "name": "stdout",
     "output_type": "stream",
     "text": [
      "Error: Dictionary file not found at words-huge.txt\n"
     ]
    }
   ],
   "source": [
    "import time\n",
    "\n",
    "# 加载词典\n",
    "def load_dictionary(filepath):\n",
    "    try:\n",
    "        with open(filepath, 'r') as file:\n",
    "            dictionary = set(word.strip().lower() for word in file)\n",
    "        return dictionary\n",
    "    except FileNotFoundError:\n",
    "        print(f\"Error: Dictionary file not found at {filepath}\")\n",
    "        return set()\n",
    "\n",
    "# 检查单词是否有效\n",
    "def is_valid_word(word, used_words, dictionary):\n",
    "    if word.lower() in dictionary and word.lower() not in used_words:\n",
    "        return True\n",
    "    return False\n",
    "\n",
    "# 计算得分\n",
    "def calculate_score(word):\n",
    "    return len(word) * 10  # 每个字母得 10 分\n",
    "\n",
    "# 更新已使用的单词\n",
    "def update_used_words(word, used_words):\n",
    "    used_words.add(word.lower())\n",
    "\n",
    "# 保存玩家成绩到数据库\n",
    "def save_to_leaderboard(player_name, score, play_time, cursor, connection):\n",
    "    cursor.execute(\"\"\"\n",
    "        INSERT INTO Leaderboard (player_name, score, play_time, game_date)\n",
    "        VALUES (%s, %s, %s, CURDATE())\n",
    "    \"\"\", (player_name, score, play_time))\n",
    "    connection.commit()\n",
    "\n",
    "# 游戏主循环\n",
    "def play_game(dictionary, cursor, connection):\n",
    "    player_name = input(\"Enter your name: \")\n",
    "    total_score = 0\n",
    "    used_words = set()\n",
    "    start_time = time.time()  # 记录游戏开始时间\n",
    "    \n",
    "    print(\"\\nGame Started! Type 'exit' to quit.\\n\")\n",
    "    \n",
    "    while True:\n",
    "        word = input(\"Enter a word: \").strip()\n",
    "        \n",
    "        if word.lower() == 'exit':  # 玩家选择退出\n",
    "            break\n",
    "        \n",
    "        if is_valid_word(word, used_words, dictionary):\n",
    "            score = calculate_score(word)\n",
    "            total_score += score\n",
    "            update_used_words(word, used_words)\n",
    "            print(f\"'{word}' is valid! Score: {score}, Total Score: {total_score}\")\n",
    "        else:\n",
    "            print(f\"'{word}' is invalid or already used.\")\n",
    "    \n",
    "    # 游戏结束，计算时长\n",
    "    play_time = time.strftime(\"%H:%M:%S\", time.gmtime(time.time() - start_time))\n",
    "    print(f\"\\nGame Over! Final Score: {total_score}, Time Played: {play_time}\")\n",
    "    \n",
    "    # 保存成绩到数据库\n",
    "    save_to_leaderboard(player_name, total_score, play_time, cursor, connection)\n",
    "\n",
    "# 加载词典文件\n",
    "dictionary_file = \"words-huge.txt\"  # 或使用完整路径\n",
    "dictionary = load_dictionary(dictionary_file)\n",
    "\n",
    "if dictionary:\n",
    "    # 在这里建立数据库连接和游玩\n",
    "    import pymysql\n",
    "    \n",
    "    # 创建数据库连接\n",
    "    connection = pymysql.connect(\n",
    "        host='localhost',\n",
    "        user='wordgame_user',\n",
    "        password='securepassword',\n",
    "        database='WordGameDB'\n",
    "    )\n",
    "    cursor = connection.cursor()\n",
    "\n",
    "    # 运行游戏\n",
    "    play_game(dictionary, cursor, connection)\n",
    "    \n",
    "    # 关闭数据库连接\n",
    "    connection.close()\n"
   ]
  },
  {
   "cell_type": "code",
   "execution_count": 40,
   "id": "8f4906ea-6c18-4fcd-9f1c-9b94615e9614",
   "metadata": {},
   "outputs": [
    {
     "name": "stdout",
     "output_type": "stream",
     "text": [
      "File exists: True\n",
      "Checking if the file exists at: C:\\Users\\MASTER\\Learning\\Scripts\\cloud\\.ipynb_checkpoints\\words-huge.txt\n",
      "Dictionary loaded with 338644 words.\n"
     ]
    }
   ],
   "source": [
    "import os\n",
    "\n",
    "def load_dictionary(filepath):\n",
    "    # 打印文件路径\n",
    "    print(f\"Checking if the file exists at: {filepath}\")\n",
    "    \n",
    "    # 检查文件是否存在\n",
    "    if not os.path.exists(filepath):\n",
    "        print(f\"Error: File does not exist at {filepath}\")\n",
    "        return set()\n",
    "\n",
    "    try:\n",
    "        # 打开并读取文件内容\n",
    "        with open(filepath, 'r', encoding='utf-8') as file:\n",
    "            dictionary = set(word.strip().lower() for word in file)\n",
    "        print(f\"Dictionary loaded with {len(dictionary)} words.\")\n",
    "        return dictionary\n",
    "    except Exception as e:\n",
    "        print(f\"Error: {str(e)}\")\n",
    "        return set()\n",
    "\n",
    "# 指定文件路径\n",
    "dictionary_file = r\"C:\\Users\\MASTER\\Learning\\Scripts\\cloud\\.ipynb_checkpoints\\words-huge.txt\"\n",
    "\n",
    "# 检查文件是否存在\n",
    "print(f\"File exists: {os.path.exists(dictionary_file)}\")\n",
    "\n",
    "# 加载词典\n",
    "dictionary = load_dictionary(dictionary_file)\n"
   ]
  },
  {
   "cell_type": "code",
   "execution_count": 1,
   "id": "ea6c780f-096e-4e85-a836-bb82d16d9a17",
   "metadata": {},
   "outputs": [
    {
     "name": "stdout",
     "output_type": "stream",
     "text": [
      "Dictionary loaded with 338644 words.\n"
     ]
    },
    {
     "name": "stdin",
     "output_type": "stream",
     "text": [
      "Enter your name:  o\n"
     ]
    },
    {
     "name": "stdout",
     "output_type": "stream",
     "text": [
      "\n",
      "Your word to scramble: birchite\n",
      "\n"
     ]
    },
    {
     "name": "stdin",
     "output_type": "stream",
     "text": [
      "Enter a word using letters from 'birchite' (30 seconds, enter 'exit' to stop):  birth\n",
      "Enter a word using letters from 'birchite' (30 seconds, enter 'exit' to stop):  bit\n",
      "Enter a word using letters from 'birchite' (30 seconds, enter 'exit' to stop):  exit\n"
     ]
    },
    {
     "name": "stdout",
     "output_type": "stream",
     "text": [
      "\n",
      "Time's up! You took too long.\n",
      "\n",
      "Game Over! You scored 10 points.\n",
      "\n",
      "Top 5 Players:\n",
      "1. Player1 - 170 points - Date: 2024-11-27 - Time: 0:05:30\n",
      "2. o - 10 points - Date: 2024-11-27 - Time: 0:00:43\n",
      "3. Player1 - 0 points - Date: 2024-11-27 - Time: 0:05:30\n"
     ]
    }
   ],
   "source": [
    "import random\n",
    "import time\n",
    "import pymysql\n",
    "\n",
    "# 加载词典\n",
    "def load_dictionary(filepath):\n",
    "    try:\n",
    "        with open(filepath, 'r', encoding='utf-8') as file:\n",
    "            dictionary = set(word.strip().lower() for word in file)\n",
    "        print(f\"Dictionary loaded with {len(dictionary)} words.\")\n",
    "        return dictionary\n",
    "    except Exception as e:\n",
    "        print(f\"Error: {str(e)}\")\n",
    "        return set()\n",
    "\n",
    "# 检查玩家输入的单词是否是有效单词\n",
    "def is_valid_word(word, dictionary):\n",
    "    word = word.lower().strip()\n",
    "    return word in dictionary\n",
    "\n",
    "# 计算得分\n",
    "def calculate_score(word):\n",
    "    if len(word) <= 6:\n",
    "        return 5  # 简单单词，得5分\n",
    "    else:\n",
    "        return 10  # 复杂单词，得10分\n",
    "\n",
    "# 显示排行榜前五名\n",
    "def show_leaderboard(cursor):\n",
    "    cursor.execute(\"SELECT player_name, score, game_date, play_time FROM Leaderboard ORDER BY score DESC LIMIT 5\")\n",
    "    print(\"\\nTop 5 Players:\")\n",
    "    for i, (name, score, game_date, play_time) in enumerate(cursor.fetchall(), start=1):\n",
    "        print(f\"{i}. {name} - {score} points - Date: {game_date} - Time: {play_time}\")\n",
    "\n",
    "# 主游戏逻辑\n",
    "def play_game(dictionary, cursor, connection):\n",
    "    player_name = input(\"Enter your name: \")\n",
    "\n",
    "    # 随机选择一个长单词（字母数不低于8）\n",
    "    word_to_scramble = random.choice([word for word in dictionary if len(word) >= 8])  # 确保单词长度大于等于8\n",
    "    print(f\"\\nYour word to scramble: {word_to_scramble}\\n\")\n",
    "    \n",
    "    # 记录游戏开始时间\n",
    "    start_time = time.time()\n",
    "    time_limit = 30  # 30秒时间限制\n",
    "    \n",
    "    # 允许玩家输入最多5个单词\n",
    "    input_words = []\n",
    "    while len(input_words) < 5:\n",
    "        user_input = input(f\"Enter a word using letters from '{word_to_scramble}' (30 seconds, enter 'exit' to stop): \").strip()\n",
    "        \n",
    "        if user_input.lower() == \"exit\":\n",
    "            break\n",
    "        \n",
    "        if all(letter in word_to_scramble for letter in user_input.lower()):\n",
    "            if is_valid_word(user_input, dictionary):\n",
    "                input_words.append(user_input)\n",
    "            else:\n",
    "                print(f\"'{user_input}' is not a valid word. Try again.\")\n",
    "        else:\n",
    "            print(f\"'{user_input}' contains invalid letters. Only use letters from '{word_to_scramble}'\")\n",
    "    \n",
    "    # 检查玩家是否超时\n",
    "    elapsed_time = time.time() - start_time\n",
    "    if elapsed_time > time_limit:\n",
    "        print(f\"\\nTime's up! You took too long.\")\n",
    "    \n",
    "    # 计算总得分\n",
    "    total_score = 0\n",
    "    for word in input_words:\n",
    "        total_score += calculate_score(word)\n",
    "    \n",
    "    print(f\"\\nGame Over! You scored {total_score} points.\")\n",
    "    \n",
    "    # 转换为小时:分钟:秒格式\n",
    "    play_time = time.strftime(\"%H:%M:%S\", time.gmtime(elapsed_time))\n",
    "    \n",
    "    # 保存分数到数据库\n",
    "    cursor.execute(\"\"\"\n",
    "        INSERT INTO Leaderboard (player_name, score, game_date, play_time)\n",
    "        VALUES (%s, %s, CURDATE(), %s)\n",
    "    \"\"\", (player_name, total_score, play_time))\n",
    "    connection.commit()\n",
    "\n",
    "    # 显示得分前五名\n",
    "    show_leaderboard(cursor)\n",
    "\n",
    "# 设置数据库连接\n",
    "def connect_to_db():\n",
    "    connection = pymysql.connect(\n",
    "        host='localhost',\n",
    "        user='wordgame_user',\n",
    "        password='securepassword',\n",
    "        database='WordGameDB'\n",
    "    )\n",
    "    cursor = connection.cursor()\n",
    "    return cursor, connection\n",
    "\n",
    "# 主程序入口\n",
    "if __name__ == \"__main__\":\n",
    "    # 加载词典\n",
    "    dictionary_file = r\"C:\\Users\\MASTER\\Learning\\Scripts\\cloud\\words-huge.txt\"  # 请确保路径正确\n",
    "    dictionary = load_dictionary(dictionary_file)\n",
    "\n",
    "    if dictionary:\n",
    "        # 连接数据库\n",
    "        cursor, connection = connect_to_db()\n",
    "        \n",
    "        # 启动游戏\n",
    "        play_game(dictionary, cursor, connection)\n",
    "        \n",
    "        # 关闭数据库连接\n",
    "        connection.close()\n"
   ]
  },
  {
   "cell_type": "code",
   "execution_count": 3,
   "id": "ca652b19-637a-41ac-8b37-8a71ee6abea4",
   "metadata": {},
   "outputs": [],
   "source": [
    "# Loading the Dictionary：\n",
    "def load_dictionary(filepath):\n",
    "    try:\n",
    "        # Open the file in read mode and load each word, strip extra spaces, and convert to lowercase\n",
    "        with open(filepath, 'r', encoding='utf-8') as file:\n",
    "            dictionary = set(word.strip().lower() for word in file)\n",
    "        print(f\"Dictionary loaded with {len(dictionary)} words.\")  # Print the number of words loaded\n",
    "        return dictionary  # Return the loaded dictionary\n",
    "    except Exception as e:\n",
    "        # Catch errors while loading the dictionary and print the error message\n",
    "        print(f\"Error: {str(e)}\")\n",
    "        return set()  # Return an empty set if there's an error loading the dictionary"
   ]
  },
  {
   "cell_type": "code",
   "execution_count": 4,
   "id": "3f0e9f57-ad36-4adb-8562-04dcf0ac4e77",
   "metadata": {},
   "outputs": [],
   "source": [
    "#Check Word Validity\n",
    "def is_valid_word(word, dictionary):\n",
    "    word = word.lower().strip()  # Convert the input word to lowercase and remove extra spaces\n",
    "    return word in dictionary  # Return whether the word exists in the dictionary"
   ]
  },
  {
   "cell_type": "code",
   "execution_count": 5,
   "id": "bb5e64f7-13b4-47d6-8767-d52cef832b34",
   "metadata": {},
   "outputs": [],
   "source": [
    "#Calculate Score\n",
    "def calculate_score(word):\n",
    "    if len(word) <= 6:\n",
    "        return 5  # If the word is simple (length <= 6), return 5 points\n",
    "    else:\n",
    "        return 10  # If the word is complex (length > 6), return 10 points"
   ]
  },
  {
   "cell_type": "code",
   "execution_count": 6,
   "id": "f55538e6-f369-4d3a-8efa-50e71fcaf68a",
   "metadata": {},
   "outputs": [],
   "source": [
    "#Show Leaderboard\n",
    "def show_leaderboard(cursor):\n",
    "    # Execute a query to fetch the top 5 players ordered by score in descending order\n",
    "    cursor.execute(\"SELECT player_name, score, game_date, play_time FROM Leaderboard ORDER BY score DESC LIMIT 5\")\n",
    "    print(\"\\nTop 5 Players:\")\n",
    "    for i, (name, score, game_date, play_time) in enumerate(cursor.fetchall(), start=1):\n",
    "        print(f\"{i}. {name} - {score} points - Date: {game_date} - Time: {play_time}\")\n"
   ]
  },
  {
   "cell_type": "code",
   "execution_count": 8,
   "id": "51d632db-bfcf-4bc2-976c-9763d102ebd5",
   "metadata": {},
   "outputs": [],
   "source": [
    "#Main Game Logic\n",
    "def play_game(dictionary, cursor, connection):\n",
    "    player_name = input(\"Enter your name: \")  # Get the player's name from input\n",
    "\n",
    "    # Randomly choose a word with at least 8 letters from the dictionary\n",
    "    word_to_scramble = random.choice([word for word in dictionary if len(word) >= 8])  # Ensure word length is >= 8\n",
    "    print(f\"\\nYour word to scramble: {word_to_scramble}\\n\")  # Display the word to the player\n",
    "\n",
    "    # Record the start time of the game\n",
    "    start_time = time.time()\n",
    "    time_limit = 30  # Set a 30 seconds time limit for the game\n",
    "\n",
    "    # Allow the player to enter up to 5 words\n",
    "    input_words = []  # List to store valid words entered by the player\n",
    "    while len(input_words) < 5:\n",
    "        # Prompt the player to enter a word\n",
    "        user_input = input(f\"Enter a word using letters from '{word_to_scramble}' (30 seconds, enter 'exit' to stop): \").strip()\n",
    "\n",
    "        if user_input.lower() == \"exit\":\n",
    "            break  # If the player enters 'exit', stop the game\n",
    "\n",
    "        # Check if the input word only contains letters from the scrambled word\n",
    "        if all(letter in word_to_scramble for letter in user_input.lower()):\n",
    "            if is_valid_word(user_input, dictionary):  # Check if the word is valid\n",
    "                input_words.append(user_input)  # If valid, add the word to the list\n",
    "            else:\n",
    "                print(f\"'{user_input}' is not a valid word. Try again.\")  # Prompt for invalid word\n",
    "        else:\n",
    "            print(f\"'{user_input}' contains invalid letters. Only use letters from '{word_to_scramble}'\")  # Invalid letters\n",
    "\n",
    "    # Check if the player ran out of time\n",
    "    elapsed_time = time.time() - start_time  # Calculate how long the player took\n",
    "    if elapsed_time > time_limit:\n",
    "        print(f\"\\nTime's up! You took too long.\")  # Time's up message\n",
    "\n",
    "    # Calculate the total score for all valid words\n",
    "    total_score = 0\n",
    "    for word in input_words:\n",
    "        total_score += calculate_score(word)  # Add the score for each valid word\n",
    "\n",
    "    print(f\"\\nGame Over! You scored {total_score} points.\")  # Display the total score\n",
    "\n",
    "    # Convert the elapsed time to hours:minutes:seconds format\n",
    "    play_time = time.strftime(\"%H:%M:%S\", time.gmtime(elapsed_time))\n",
    "\n",
    "    # Save the player's score to the database\n",
    "    cursor.execute(\"\"\"\n",
    "        INSERT INTO Leaderboard (player_name, score, game_date, play_time)\n",
    "        VALUES (%s, %s, CURDATE(), %s)\n",
    "    \"\"\", (player_name, total_score, play_time))  # Insert the player's name, score, and play time\n",
    "    connection.commit()  # Commit the transaction to the database\n",
    "\n",
    "    # Show the top 5 players\n",
    "    show_leaderboard(cursor)"
   ]
  },
  {
   "cell_type": "code",
   "execution_count": 9,
   "id": "d08c5564-a877-429f-956d-a80706f27a0e",
   "metadata": {},
   "outputs": [
    {
     "name": "stdout",
     "output_type": "stream",
     "text": [
      "Dictionary loaded with 338644 words.\n"
     ]
    },
    {
     "name": "stdin",
     "output_type": "stream",
     "text": [
      "Enter your name:  Feng\n"
     ]
    },
    {
     "name": "stdout",
     "output_type": "stream",
     "text": [
      "\n",
      "Your word to scramble: glenshaw's\n",
      "\n"
     ]
    },
    {
     "name": "stdin",
     "output_type": "stream",
     "text": [
      "Enter a word using letters from 'glenshaw's' (30 seconds, enter 'exit' to stop):  exit\n"
     ]
    },
    {
     "name": "stdout",
     "output_type": "stream",
     "text": [
      "\n",
      "Game Over! You scored 0 points.\n",
      "\n",
      "Top 5 Players:\n",
      "1. Player1 - 170 points - Date: 2024-11-27 - Time: 0:05:30\n",
      "2. o - 10 points - Date: 2024-11-27 - Time: 0:00:43\n",
      "3. Player1 - 0 points - Date: 2024-11-27 - Time: 0:05:30\n",
      "4. pop - 0 points - Date: 2024-11-27 - Time: 0:00:04\n",
      "5. Feng - 0 points - Date: 2024-11-27 - Time: 0:00:08\n"
     ]
    }
   ],
   "source": [
    "import random\n",
    "import time\n",
    "import pymysql\n",
    "\n",
    "# 加载词典\n",
    "def load_dictionary(filepath):\n",
    "    try:\n",
    "        with open(filepath, 'r', encoding='utf-8') as file:\n",
    "            dictionary = set(word.strip().lower() for word in file)\n",
    "        print(f\"Dictionary loaded with {len(dictionary)} words.\")\n",
    "        return dictionary\n",
    "    except Exception as e:\n",
    "        print(f\"Error: {str(e)}\")\n",
    "        return set()\n",
    "\n",
    "# 检查玩家输入的单词是否是有效单词\n",
    "def is_valid_word(word, dictionary):\n",
    "    word = word.lower().strip()\n",
    "    return word in dictionary\n",
    "\n",
    "# 计算得分\n",
    "def calculate_score(word):\n",
    "    if len(word) <= 6:\n",
    "        return 5  # 简单单词，得5分\n",
    "    else:\n",
    "        return 10  # 复杂单词，得10分\n",
    "\n",
    "# 显示排行榜前五名\n",
    "def show_leaderboard(cursor):\n",
    "    cursor.execute(\"SELECT player_name, score, game_date, play_time FROM Leaderboard ORDER BY score DESC LIMIT 5\")\n",
    "    print(\"\\nTop 5 Players:\")\n",
    "    for i, (name, score, game_date, play_time) in enumerate(cursor.fetchall(), start=1):\n",
    "        print(f\"{i}. {name} - {score} points - Date: {game_date} - Time: {play_time}\")\n",
    "\n",
    "# 主游戏逻辑\n",
    "def play_game(dictionary, cursor, connection):\n",
    "    player_name = input(\"Enter your name: \")\n",
    "\n",
    "    # 随机选择一个长单词（字母数不低于8）\n",
    "    word_to_scramble = random.choice([word for word in dictionary if len(word) >= 8])  # 确保单词长度大于等于8\n",
    "    print(f\"\\nYour word to scramble: {word_to_scramble}\\n\")\n",
    "    \n",
    "    # 记录游戏开始时间\n",
    "    start_time = time.time()\n",
    "    time_limit = 30  # 30秒时间限制\n",
    "    \n",
    "    # 允许玩家输入最多5个单词\n",
    "    input_words = []\n",
    "    while len(input_words) < 5:\n",
    "        user_input = input(f\"Enter a word using letters from '{word_to_scramble}' (30 seconds, enter 'exit' to stop): \").strip()\n",
    "        \n",
    "        if user_input.lower() == \"exit\":\n",
    "            break\n",
    "        \n",
    "        if all(letter in word_to_scramble for letter in user_input.lower()):\n",
    "            if is_valid_word(user_input, dictionary):\n",
    "                input_words.append(user_input)\n",
    "            else:\n",
    "                print(f\"'{user_input}' is not a valid word. Try again.\")\n",
    "        else:\n",
    "            print(f\"'{user_input}' contains invalid letters. Only use letters from '{word_to_scramble}'\")\n",
    "    \n",
    "    # 检查玩家是否超时\n",
    "    elapsed_time = time.time() - start_time\n",
    "    if elapsed_time > time_limit:\n",
    "        print(f\"\\nTime's up! You took too long.\")\n",
    "    \n",
    "    # 计算总得分\n",
    "    total_score = 0\n",
    "    for word in input_words:\n",
    "        total_score += calculate_score(word)\n",
    "    \n",
    "    print(f\"\\nGame Over! You scored {total_score} points.\")\n",
    "    \n",
    "    # 转换为小时:分钟:秒格式\n",
    "    play_time = time.strftime(\"%H:%M:%S\", time.gmtime(elapsed_time))\n",
    "    \n",
    "    # 保存分数到数据库\n",
    "    cursor.execute(\"\"\"\n",
    "        INSERT INTO Leaderboard (player_name, score, game_date, play_time)\n",
    "        VALUES (%s, %s, CURDATE(), %s)\n",
    "    \"\"\", (player_name, total_score, play_time))\n",
    "    connection.commit()\n",
    "\n",
    "    # 显示得分前五名\n",
    "    show_leaderboard(cursor)\n",
    "\n",
    "# 设置数据库连接\n",
    "def connect_to_db():\n",
    "    connection = pymysql.connect(\n",
    "        host='localhost',\n",
    "        user='wordgame_user',\n",
    "        password='securepassword',\n",
    "        database='WordGameDB'\n",
    "    )\n",
    "    cursor = connection.cursor()\n",
    "    return cursor, connection\n",
    "\n",
    "# 主程序入口\n",
    "if __name__ == \"__main__\":\n",
    "    # 加载词典\n",
    "    dictionary_file = r\"C:\\Users\\MASTER\\Learning\\Scripts\\cloud\\words-huge.txt\"  # 请确保路径正确\n",
    "    dictionary = load_dictionary(dictionary_file)\n",
    "\n",
    "    if dictionary:\n",
    "        # 连接数据库\n",
    "        cursor, connection = connect_to_db()\n",
    "        \n",
    "        # 启动游戏\n",
    "        play_game(dictionary, cursor, connection)\n",
    "        \n",
    "        # 关闭数据库连接\n",
    "        connection.close()\n"
   ]
  },
  {
   "cell_type": "code",
   "execution_count": null,
   "id": "33afe6bb-843a-4794-be32-4458c6e86a52",
   "metadata": {},
   "outputs": [],
   "source": []
  }
 ],
 "metadata": {
  "kernelspec": {
   "display_name": "Python 3 (ipykernel)",
   "language": "python",
   "name": "python3"
  },
  "language_info": {
   "codemirror_mode": {
    "name": "ipython",
    "version": 3
   },
   "file_extension": ".py",
   "mimetype": "text/x-python",
   "name": "python",
   "nbconvert_exporter": "python",
   "pygments_lexer": "ipython3",
   "version": "3.12.6"
  }
 },
 "nbformat": 4,
 "nbformat_minor": 5
}
